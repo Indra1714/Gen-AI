{
 "cells": [
  {
   "cell_type": "code",
   "execution_count": 1,
   "id": "af04a8c0",
   "metadata": {
    "_cell_guid": "b1076dfc-b9ad-4769-8c92-a6c4dae69d19",
    "_uuid": "8f2839f25d086af736a60e9eeb907d3b93b6e0e5",
    "execution": {
     "iopub.execute_input": "2025-04-17T16:59:04.818382Z",
     "iopub.status.busy": "2025-04-17T16:59:04.817953Z",
     "iopub.status.idle": "2025-04-17T16:59:06.929620Z",
     "shell.execute_reply": "2025-04-17T16:59:06.928364Z"
    },
    "papermill": {
     "duration": 2.118722,
     "end_time": "2025-04-17T16:59:06.931647",
     "exception": false,
     "start_time": "2025-04-17T16:59:04.812925",
     "status": "completed"
    },
    "tags": []
   },
   "outputs": [
    {
     "name": "stdout",
     "output_type": "stream",
     "text": [
      "/kaggle/input/test.vcf\n"
     ]
    }
   ],
   "source": [
    "# This Python 3 environment comes with many helpful analytics libraries installed\n",
    "# It is defined by the kaggle/python Docker image: https://github.com/kaggle/docker-python\n",
    "# For example, here's several helpful packages to load\n",
    "\n",
    "import numpy as np # linear algebra\n",
    "import pandas as pd # data processing, CSV file I/O (e.g. pd.read_csv)\n",
    "\n",
    "# Input data files are available in the read-only \"../input/\" directory\n",
    "# For example, running this (by clicking run or pressing Shift+Enter) will list all files under the input directory\n",
    "\n",
    "import os\n",
    "for dirname, _, filenames in os.walk('/kaggle/input'):\n",
    "    for filename in filenames:\n",
    "        print(os.path.join(dirname, filename))\n",
    "\n",
    "# You can write up to 20GB to the current directory (/kaggle/working/) that gets preserved as output when you create a version using \"Save & Run All\" \n",
    "# You can also write temporary files to /kaggle/temp/, but they won't be saved outside of the current session"
   ]
  },
  {
   "cell_type": "markdown",
   "id": "674cf434",
   "metadata": {
    "papermill": {
     "duration": 0.002923,
     "end_time": "2025-04-17T16:59:06.938361",
     "exception": false,
     "start_time": "2025-04-17T16:59:06.935438",
     "status": "completed"
    },
    "tags": []
   },
   "source": [
    "Project Overview\n",
    "\n",
    "# Genomic Variant Interpretation Assistant (GVIA)\n",
    "\n",
    "This project builds a Gen AI-powered assistant for interpreting genomic variants from a VCF file. It is designed to support rare disease diagnosis by helping clinicians understand the likely impact of a variant and associated phenotypes.\n",
    "\n",
    "We use Gen AI in the following ways:\n",
    "- Interpret the clinical significance of variants (structured output)\n",
    "- Map patient phenotypes to likely genes (few-shot prompting)\n",
    "- Summarize relevant literature for context (RAG-style grounding)\n"
   ]
  },
  {
   "cell_type": "markdown",
   "id": "3474880c",
   "metadata": {
    "papermill": {
     "duration": 0.002853,
     "end_time": "2025-04-17T16:59:06.944398",
     "exception": false,
     "start_time": "2025-04-17T16:59:06.941545",
     "status": "completed"
    },
    "tags": []
   },
   "source": [
    "Capabilities Used\n",
    "\n",
    "## Gen AI Capabilities Demonstrated\n",
    "\n",
    "1. **Structured Output / JSON Mode** — for variant interpretation\n",
    "2. **Few-Shot Prompting** — for phenotype-to-gene inference\n",
    "3. **RAG-style Grounding** — summarizing literature with PMIDs\n",
    "\n",
    "The model used is **OpenAI GPT-4**, accessed through the OpenAI API.\n"
   ]
  },
  {
   "cell_type": "markdown",
   "id": "a8c9c83b",
   "metadata": {
    "papermill": {
     "duration": 0.0028,
     "end_time": "2025-04-17T16:59:06.950360",
     "exception": false,
     "start_time": "2025-04-17T16:59:06.947560",
     "status": "completed"
    },
    "tags": []
   },
   "source": [
    "Capstone Project: Genomic Variant Interpretation Assistant (GVIA)\n",
    "\n",
    "A Gen AI-powered assistant that helps clinicians and researchers interpret variants from whole genome/exome sequencing using structured summaries, phenotype mapping, and literature support."
   ]
  },
  {
   "cell_type": "code",
   "execution_count": 2,
   "id": "6ad9c34c",
   "metadata": {
    "execution": {
     "iopub.execute_input": "2025-04-17T16:59:06.958028Z",
     "iopub.status.busy": "2025-04-17T16:59:06.957559Z",
     "iopub.status.idle": "2025-04-17T16:59:29.776011Z",
     "shell.execute_reply": "2025-04-17T16:59:29.775041Z"
    },
    "papermill": {
     "duration": 22.824427,
     "end_time": "2025-04-17T16:59:29.777796",
     "exception": false,
     "start_time": "2025-04-17T16:59:06.953369",
     "status": "completed"
    },
    "tags": []
   },
   "outputs": [
    {
     "name": "stdout",
     "output_type": "stream",
     "text": [
      "\u001b[2K   \u001b[90m━━━━━━━━━━━━━━━━━━━━━━━━━━━━━━━━━━━━━━━━\u001b[0m \u001b[32m155.4/155.4 kB\u001b[0m \u001b[31m4.8 MB/s\u001b[0m eta \u001b[36m0:00:00\u001b[0m\r\n",
      "\u001b[?25h"
     ]
    }
   ],
   "source": [
    "!pip install -U google-generativeai --quiet\n",
    "\n"
   ]
  },
  {
   "cell_type": "code",
   "execution_count": 3,
   "id": "4f1c30d8",
   "metadata": {
    "execution": {
     "iopub.execute_input": "2025-04-17T16:59:29.788145Z",
     "iopub.status.busy": "2025-04-17T16:59:29.787744Z",
     "iopub.status.idle": "2025-04-17T16:59:32.226472Z",
     "shell.execute_reply": "2025-04-17T16:59:32.225491Z"
    },
    "papermill": {
     "duration": 2.445727,
     "end_time": "2025-04-17T16:59:32.228426",
     "exception": false,
     "start_time": "2025-04-17T16:59:29.782699",
     "status": "completed"
    },
    "tags": []
   },
   "outputs": [],
   "source": [
    "import google.generativeai as genai\n",
    "\n",
    "genai.configure(api_key=\"api\")"
   ]
  },
  {
   "cell_type": "code",
   "execution_count": 4,
   "id": "560a5bc7",
   "metadata": {
    "execution": {
     "iopub.execute_input": "2025-04-17T16:59:32.237167Z",
     "iopub.status.busy": "2025-04-17T16:59:32.236392Z",
     "iopub.status.idle": "2025-04-17T16:59:40.548585Z",
     "shell.execute_reply": "2025-04-17T16:59:40.547362Z"
    },
    "papermill": {
     "duration": 8.318601,
     "end_time": "2025-04-17T16:59:40.550548",
     "exception": false,
     "start_time": "2025-04-17T16:59:32.231947",
     "status": "completed"
    },
    "tags": []
   },
   "outputs": [
    {
     "name": "stdout",
     "output_type": "stream",
     "text": [
      "\u001b[2K     \u001b[90m━━━━━━━━━━━━━━━━━━━━━━━━━━━━━━━━━━━━━━━━\u001b[0m \u001b[32m993.2/993.2 kB\u001b[0m \u001b[31m23.4 MB/s\u001b[0m eta \u001b[36m0:00:00\u001b[0m\r\n",
      "\u001b[?25h  Preparing metadata (setup.py) ... \u001b[?25l\u001b[?25hdone\r\n",
      "\u001b[2K   \u001b[90m━━━━━━━━━━━━━━━━━━━━━━━━━━━━━━━━━━━━━━━━\u001b[0m \u001b[32m26.0/26.0 MB\u001b[0m \u001b[31m40.4 MB/s\u001b[0m eta \u001b[36m0:00:00\u001b[0m\r\n",
      "\u001b[?25h  Building wheel for vcfpy (setup.py) ... \u001b[?25l\u001b[?25hdone\r\n"
     ]
    },
    {
     "data": {
      "text/html": [
       "<div>\n",
       "<style scoped>\n",
       "    .dataframe tbody tr th:only-of-type {\n",
       "        vertical-align: middle;\n",
       "    }\n",
       "\n",
       "    .dataframe tbody tr th {\n",
       "        vertical-align: top;\n",
       "    }\n",
       "\n",
       "    .dataframe thead th {\n",
       "        text-align: right;\n",
       "    }\n",
       "</style>\n",
       "<table border=\"1\" class=\"dataframe\">\n",
       "  <thead>\n",
       "    <tr style=\"text-align: right;\">\n",
       "      <th></th>\n",
       "      <th>CHROM</th>\n",
       "      <th>POS</th>\n",
       "      <th>ID</th>\n",
       "      <th>REF</th>\n",
       "      <th>ALT</th>\n",
       "      <th>QUAL</th>\n",
       "      <th>FILTER</th>\n",
       "      <th>INFO</th>\n",
       "    </tr>\n",
       "  </thead>\n",
       "  <tbody>\n",
       "    <tr>\n",
       "      <th>0</th>\n",
       "      <td>chrM</td>\n",
       "      <td>1</td>\n",
       "      <td>[]</td>\n",
       "      <td>G</td>\n",
       "      <td>NA</td>\n",
       "      <td>NaN</td>\n",
       "      <td>[PASS]</td>\n",
       "      <td>{'UCSC.conservation': [272, 713], 'UCSC.tss': ...</td>\n",
       "    </tr>\n",
       "    <tr>\n",
       "      <th>1</th>\n",
       "      <td>chrM</td>\n",
       "      <td>2</td>\n",
       "      <td>[]</td>\n",
       "      <td>A</td>\n",
       "      <td>NA</td>\n",
       "      <td>NaN</td>\n",
       "      <td>[PASS]</td>\n",
       "      <td>{'END': 72, 'BLOCKAVG_min30p3a': True, 'UCSC.B...</td>\n",
       "    </tr>\n",
       "    <tr>\n",
       "      <th>2</th>\n",
       "      <td>chrM</td>\n",
       "      <td>73</td>\n",
       "      <td>[]</td>\n",
       "      <td>G</td>\n",
       "      <td>A</td>\n",
       "      <td>8752.78</td>\n",
       "      <td>[TruthSensitivityTranche99.90to100.00]</td>\n",
       "      <td>{'AC': [2], 'AF': [1.0], 'AN': 2, 'DP': 250, '...</td>\n",
       "    </tr>\n",
       "    <tr>\n",
       "      <th>3</th>\n",
       "      <td>chrM</td>\n",
       "      <td>74</td>\n",
       "      <td>[]</td>\n",
       "      <td>T</td>\n",
       "      <td>NA</td>\n",
       "      <td>NaN</td>\n",
       "      <td>[PASS]</td>\n",
       "      <td>{'END': 149, 'BLOCKAVG_min30p3a': True, 'UCSC....</td>\n",
       "    </tr>\n",
       "    <tr>\n",
       "      <th>4</th>\n",
       "      <td>chrM</td>\n",
       "      <td>150</td>\n",
       "      <td>[]</td>\n",
       "      <td>T</td>\n",
       "      <td>C</td>\n",
       "      <td>9341.36</td>\n",
       "      <td>[TruthSensitivityTranche99.90to100.00]</td>\n",
       "      <td>{'AC': [2], 'AF': [1.0], 'AN': 2, 'DP': 250, '...</td>\n",
       "    </tr>\n",
       "  </tbody>\n",
       "</table>\n",
       "</div>"
      ],
      "text/plain": [
       "  CHROM  POS  ID REF ALT     QUAL                                  FILTER  \\\n",
       "0  chrM    1  []   G  NA      NaN                                  [PASS]   \n",
       "1  chrM    2  []   A  NA      NaN                                  [PASS]   \n",
       "2  chrM   73  []   G   A  8752.78  [TruthSensitivityTranche99.90to100.00]   \n",
       "3  chrM   74  []   T  NA      NaN                                  [PASS]   \n",
       "4  chrM  150  []   T   C  9341.36  [TruthSensitivityTranche99.90to100.00]   \n",
       "\n",
       "                                                INFO  \n",
       "0  {'UCSC.conservation': [272, 713], 'UCSC.tss': ...  \n",
       "1  {'END': 72, 'BLOCKAVG_min30p3a': True, 'UCSC.B...  \n",
       "2  {'AC': [2], 'AF': [1.0], 'AN': 2, 'DP': 250, '...  \n",
       "3  {'END': 149, 'BLOCKAVG_min30p3a': True, 'UCSC....  \n",
       "4  {'AC': [2], 'AF': [1.0], 'AN': 2, 'DP': 250, '...  "
      ]
     },
     "execution_count": 4,
     "metadata": {},
     "output_type": "execute_result"
    }
   ],
   "source": [
    "!pip install openai vcfpy pandas --quiet\n",
    "import vcfpy\n",
    "import pandas as pd\n",
    "import warnings\n",
    "warnings.filterwarnings(\"ignore\", category=RuntimeWarning)\n",
    "\n",
    "reader = vcfpy.Reader.from_path(\"/kaggle/input/test.vcf\")  # Upload 'test.vcf' in the sidebar\n",
    "\n",
    "variants = []\n",
    "for i, record in enumerate(reader):\n",
    "    if i >= 5:  # For demo purposes\n",
    "        break\n",
    "    alt = str(record.ALT[0].value) if record.ALT else \"NA\"\n",
    "    variants.append({\n",
    "        'CHROM': record.CHROM,\n",
    "        'POS': record.POS,\n",
    "        'ID': record.ID,\n",
    "        'REF': record.REF,\n",
    "        'ALT': alt,\n",
    "        'QUAL': record.QUAL,\n",
    "        'FILTER': record.FILTER,\n",
    "        'INFO': record.INFO\n",
    "    })\n",
    "\n",
    "df = pd.DataFrame(variants)\n",
    "df.head()\n"
   ]
  },
  {
   "cell_type": "code",
   "execution_count": 5,
   "id": "df818c2c",
   "metadata": {
    "execution": {
     "iopub.execute_input": "2025-04-17T16:59:40.561831Z",
     "iopub.status.busy": "2025-04-17T16:59:40.560617Z",
     "iopub.status.idle": "2025-04-17T16:59:41.399220Z",
     "shell.execute_reply": "2025-04-17T16:59:41.397966Z"
    },
    "papermill": {
     "duration": 0.845739,
     "end_time": "2025-04-17T16:59:41.400835",
     "exception": false,
     "start_time": "2025-04-17T16:59:40.555096",
     "status": "completed"
    },
    "tags": []
   },
   "outputs": [
    {
     "name": "stdout",
     "output_type": "stream",
     "text": [
      "```json\n",
      "{\n",
      "  \"gene_name\": \"MT-TF\",\n",
      "  \"predicted_impact\": \"MODIFIER\",\n",
      "  \"known_diseases\": [],\n",
      "  \"phenotype_terms\": [],\n",
      "  \"supporting_literature\": []\n",
      "}\n",
      "```\n"
     ]
    }
   ],
   "source": [
    "model = genai.GenerativeModel(model_name=\"models/gemini-2.0-flash\")\n",
    "\n",
    "def interpret_variant_with_gemini(variant):\n",
    "    prompt = f\"\"\"\n",
    "You are a genomics assistant.\n",
    "\n",
    "Given this variant:\n",
    "Chromosome: {variant['CHROM']}\n",
    "Position: {variant['POS']}\n",
    "Reference: {variant['REF']}\n",
    "Alternate: {variant['ALT']}\n",
    "\n",
    "Return the following in JSON format:\n",
    "- gene_name\n",
    "- predicted_impact\n",
    "- known_diseases\n",
    "- phenotype_terms (HPO IDs)\n",
    "- supporting_literature (PMIDs)\n",
    "\"\"\"\n",
    "    response = model.generate_content(prompt)\n",
    "    return response.text\n",
    "\n",
    "# Test it\n",
    "variant = df.iloc[0]\n",
    "print(interpret_variant_with_gemini(variant))\n"
   ]
  },
  {
   "cell_type": "markdown",
   "id": "98253038",
   "metadata": {
    "papermill": {
     "duration": 0.003948,
     "end_time": "2025-04-17T16:59:41.409178",
     "exception": false,
     "start_time": "2025-04-17T16:59:41.405230",
     "status": "completed"
    },
    "tags": []
   },
   "source": [
    "Step 4: Gen AI Capability 2 — Few-Shot Prompting for Phenotype → Gene Mapping"
   ]
  },
  {
   "cell_type": "code",
   "execution_count": 6,
   "id": "bf7ece26",
   "metadata": {
    "execution": {
     "iopub.execute_input": "2025-04-17T16:59:41.419868Z",
     "iopub.status.busy": "2025-04-17T16:59:41.419528Z",
     "iopub.status.idle": "2025-04-17T16:59:42.338498Z",
     "shell.execute_reply": "2025-04-17T16:59:42.337416Z"
    },
    "papermill": {
     "duration": 0.926637,
     "end_time": "2025-04-17T16:59:42.340359",
     "exception": false,
     "start_time": "2025-04-17T16:59:41.413722",
     "status": "completed"
    },
    "tags": []
   },
   "outputs": [
    {
     "name": "stdout",
     "output_type": "stream",
     "text": [
      "Phenotype: microcephaly, delayed milestones\n",
      "→ Likely Genes: ASPM, MCPH1, CDK5RAP2, WDR62, TUBB3\n",
      "\n"
     ]
    }
   ],
   "source": [
    "few_shot_prompt = \"\"\"\n",
    "Example 1:\n",
    "Phenotype: seizures, intellectual disability → Likely Genes: SCN1A, CDKL5\n",
    "\n",
    "Example 2:\n",
    "Phenotype: muscle weakness, elevated CK → Likely Genes: DMD, LMNA\n",
    "\n",
    "Now analyze:\n",
    "Phenotype: microcephaly, delayed milestones\n",
    "→ Likely Genes:\n",
    "\"\"\"\n",
    "\n",
    "response = model.generate_content(few_shot_prompt)\n",
    "print(response.text)\n"
   ]
  },
  {
   "cell_type": "markdown",
   "id": "7ecbb9eb",
   "metadata": {
    "papermill": {
     "duration": 0.004235,
     "end_time": "2025-04-17T16:59:42.348999",
     "exception": false,
     "start_time": "2025-04-17T16:59:42.344764",
     "status": "completed"
    },
    "tags": []
   },
   "source": [
    "Step 5: Gen AI Capability 3 — RAG-style Grounded Literature Summary"
   ]
  },
  {
   "cell_type": "code",
   "execution_count": 7,
   "id": "20a75030",
   "metadata": {
    "execution": {
     "iopub.execute_input": "2025-04-17T16:59:42.359290Z",
     "iopub.status.busy": "2025-04-17T16:59:42.358715Z",
     "iopub.status.idle": "2025-04-17T16:59:43.315949Z",
     "shell.execute_reply": "2025-04-17T16:59:43.314921Z"
    },
    "papermill": {
     "duration": 0.963805,
     "end_time": "2025-04-17T16:59:43.317390",
     "exception": false,
     "start_time": "2025-04-17T16:59:42.353585",
     "status": "completed"
    },
    "tags": []
   },
   "outputs": [
    {
     "name": "stdout",
     "output_type": "stream",
     "text": [
      "The BRCA1 variant c.68_69delAG is clinically relevant due to its association with high breast cancer risk and impairment of DNA repair pathways. Studies have shown that this variant causes a frameshift (PMID: 12345678), leading to a loss-of-function of the BRCA1 protein, which disrupts crucial DNA repair mechanisms (PMID: 23456789).\n",
      "\n"
     ]
    }
   ],
   "source": [
    "literature_context = \"\"\"\n",
    "PMID: 12345678 — BRCA1 variant c.68_69delAG causes frameshift, high breast cancer risk.\n",
    "PMID: 23456789 — Loss-of-function variants in BRCA1 impair DNA repair pathways.\n",
    "\"\"\"\n",
    "\n",
    "rag_prompt = f\"\"\"\n",
    "You are a genomics assistant. Given the following literature:\n",
    "\n",
    "{literature_context}\n",
    "\n",
    "Summarize the clinical relevance of BRCA1 variant c.68_69delAG. Include PMIDs in your output.\n",
    "\"\"\"\n",
    "\n",
    "rag_response = model.generate_content(rag_prompt)\n",
    "print(rag_response.text)\n"
   ]
  },
  {
   "cell_type": "markdown",
   "id": "aa45ef52",
   "metadata": {
    "papermill": {
     "duration": 0.004256,
     "end_time": "2025-04-17T16:59:43.326215",
     "exception": false,
     "start_time": "2025-04-17T16:59:43.321959",
     "status": "completed"
    },
    "tags": []
   },
   "source": [
    "Step 6: Export Final Report"
   ]
  },
  {
   "cell_type": "code",
   "execution_count": 8,
   "id": "cc12a5fb",
   "metadata": {
    "execution": {
     "iopub.execute_input": "2025-04-17T16:59:43.336277Z",
     "iopub.status.busy": "2025-04-17T16:59:43.335910Z",
     "iopub.status.idle": "2025-04-17T16:59:44.081356Z",
     "shell.execute_reply": "2025-04-17T16:59:44.080377Z"
    },
    "papermill": {
     "duration": 0.752105,
     "end_time": "2025-04-17T16:59:44.082905",
     "exception": false,
     "start_time": "2025-04-17T16:59:43.330800",
     "status": "completed"
    },
    "tags": []
   },
   "outputs": [
    {
     "name": "stdout",
     "output_type": "stream",
     "text": [
      "✅ Report saved as GVIA_Gemini_Report.json\n"
     ]
    }
   ],
   "source": [
    "import json\n",
    "\n",
    "report = {\n",
    "    \"Project\": \"Genomic Variant Interpretation Assistant (GVIA)\",\n",
    "    \"Sample Variant\": f\"{df.iloc[0]['CHROM']}:{df.iloc[0]['POS']} {df.iloc[0]['REF']}>{df.iloc[0]['ALT']}\",\n",
    "    \"Interpretation\": interpret_variant_with_gemini(df.iloc[0]),\n",
    "    \"Phenotype to Genes\": response.text,\n",
    "    \"Literature Summary\": rag_response.text\n",
    "}\n",
    "\n",
    "with open(\"GVIA_Gemini_Report.json\", \"w\") as f:\n",
    "    json.dump(report, f, indent=2)\n",
    "\n",
    "print(\"✅ Report saved as GVIA_Gemini_Report.json\")\n"
   ]
  },
  {
   "cell_type": "markdown",
   "id": "23e187fd",
   "metadata": {
    "papermill": {
     "duration": 0.003906,
     "end_time": "2025-04-17T16:59:44.091044",
     "exception": false,
     "start_time": "2025-04-17T16:59:44.087138",
     "status": "completed"
    },
    "tags": []
   },
   "source": [
    "# Genomic Variant Interpretation Assistant (GVIA)\n",
    "\n",
    "This project uses Google Gemini to automate genomic variant interpretation for rare disease support. Given a VCF file, it:\n",
    "- Extracts and interprets variants\n",
    "- Maps patient phenotypes to genes\n",
    "- Summarizes literature from structured abstracts\n",
    "\n",
    "## Gen AI Capabilities Used\n",
    "1. Structured output generation (variant interpretation)\n",
    "2. Few-shot prompting (phenotype to gene)\n",
    "3. RAG-style grounding (literature summarization)\n",
    "\n",
    "Powered by: Google Gemini (models/gemini-2.0-flash)\n"
   ]
  }
 ],
 "metadata": {
  "kaggle": {
   "accelerator": "none",
   "dataSources": [
    {
     "datasetId": 7166540,
     "sourceId": 11440349,
     "sourceType": "datasetVersion"
    }
   ],
   "dockerImageVersionId": 31012,
   "isGpuEnabled": false,
   "isInternetEnabled": true,
   "language": "python",
   "sourceType": "notebook"
  },
  "kernelspec": {
   "display_name": "Python 3",
   "language": "python",
   "name": "python3"
  },
  "language_info": {
   "codemirror_mode": {
    "name": "ipython",
    "version": 3
   },
   "file_extension": ".py",
   "mimetype": "text/x-python",
   "name": "python",
   "nbconvert_exporter": "python",
   "pygments_lexer": "ipython3",
   "version": "3.11.11"
  },
  "papermill": {
   "default_parameters": {},
   "duration": 49.285866,
   "end_time": "2025-04-17T16:59:47.701288",
   "environment_variables": {},
   "exception": null,
   "input_path": "__notebook__.ipynb",
   "output_path": "__notebook__.ipynb",
   "parameters": {},
   "start_time": "2025-04-17T16:58:58.415422",
   "version": "2.6.0"
  }
 },
 "nbformat": 4,
 "nbformat_minor": 5
}
